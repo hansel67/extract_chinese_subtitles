{
  "cells": [
    {
      "cell_type": "markdown",
      "metadata": {
        "id": "view-in-github",
        "colab_type": "text"
      },
      "source": [
        "<a href=\"https://colab.research.google.com/github/hansel67/extract_chinese_subtitles/blob/main/extract_chinese_subtitles.ipynb\" target=\"_parent\"><img src=\"https://colab.research.google.com/assets/colab-badge.svg\" alt=\"Open In Colab\"/></a>"
      ]
    },
    {
      "cell_type": "code",
      "source": [
        "#@markdown # Requirements\n",
        "\n",
        "print('\u001b[1;32mInstalling requirements...')\n",
        "from IPython.utils import capture\n",
        "with capture.capture_output() as cap:\n",
        "    !pip install paddlepaddle-gpu -i https://pypi.tuna.tsinghua.edu.cn/simple\n",
        "    !pip install opencv-python-headless pytube tqdm paddleocr\n",
        "#!apt install ffmpeg\n",
        "\n",
        "from IPython.display import clear_output\n",
        "from subprocess import getoutput\n",
        "import ipywidgets as widgets\n",
        "import os, logging, re, string, cv2\n",
        "from google.colab import files\n",
        "from pytube import YouTube\n",
        "from tqdm import tqdm\n",
        "from paddleocr import PaddleOCR\n",
        "\n",
        "def inf(msg, style, wdth): inf = widgets.Button(description=msg, disabled=True, button_style=style, layout=widgets.Layout(min_width=wdth));display(inf)\n",
        "\n",
        "\n",
        "inf('\\u2714 Done','success', '50px')\n",
        "\n",
        "#@markdown ---"
      ],
      "metadata": {
        "colab": {
          "base_uri": "https://localhost:8080/",
          "height": 67,
          "referenced_widgets": [
            "5359cee5bf154f2994b5d705f04a54cd",
            "c843f9867c344877bb98f61b1206be9f",
            "85a680e1a0d94d5a8343daf2f1ff41ba"
          ]
        },
        "cellView": "form",
        "id": "VgUgJUZx_B7T",
        "outputId": "4cdb6ba6-fbe8-42bf-fcab-cb05dd7d7aa3"
      },
      "execution_count": 1,
      "outputs": [
        {
          "output_type": "stream",
          "name": "stdout",
          "text": [
            "\u001b[1;32mInstalling requirements...\n"
          ]
        },
        {
          "output_type": "display_data",
          "data": {
            "text/plain": [
              "Button(button_style='success', description='✔ Done', disabled=True, layout=Layout(min_width='50px'), style=But…"
            ],
            "application/vnd.jupyter.widget-view+json": {
              "version_major": 2,
              "version_minor": 0,
              "model_id": "5359cee5bf154f2994b5d705f04a54cd"
            }
          },
          "metadata": {}
        }
      ]
    },
    {
      "cell_type": "code",
      "source": [
        "#@markdown # Download Video with Hardcoded Chinese Subtitles from YouTube\n",
        "\n",
        "def inf(msg, style, wdth): inf = widgets.Button(description=msg, disabled=True, button_style=style, layout=widgets.Layout(min_width=wdth));display(inf)\n",
        "Youtube_Link = \"https://www.youtube.com/watch?v=EHM4x2XseCM\" #@param {type:\"string\"}\n",
        "\n",
        "yt = YouTube(Youtube_Link)\n",
        "\n",
        "# Select the highest quality stream of the video\n",
        "\n",
        "print(\"Downloading \"+yt.title)\n",
        "\n",
        "#Download the video\n",
        "yt.streams.filter(progressive=True, file_extension='mp4').order_by('resolution').desc().first().download(filename='video')\n",
        "\n",
        "inf('\\u2714 Done','success', '50px')\n",
        "#@markdown ---"
      ],
      "metadata": {
        "colab": {
          "base_uri": "https://localhost:8080/",
          "height": 67,
          "referenced_widgets": [
            "ea4ec5f1e87746e1afe528a369c5da48",
            "ea79632f89d64ba190d5b01c594ed428",
            "10876fff35274ff3b7b7a5755f656e4b"
          ]
        },
        "id": "raZ6NSpu-Z4S",
        "outputId": "c5e38cfa-5178-4d5f-839f-cf64da4f0e02",
        "cellView": "form"
      },
      "execution_count": 24,
      "outputs": [
        {
          "metadata": {
            "tags": null
          },
          "name": "stdout",
          "output_type": "stream",
          "text": [
            "Downloading 【悬疑/谍战】货轮上隐藏巨大阴谋 日本特工和中国地下党的轮番对抗！《劫中劫》第1集【CCTV电视剧】\n"
          ]
        },
        {
          "output_type": "display_data",
          "data": {
            "text/plain": [
              "Button(button_style='success', description='✔ Done', disabled=True, layout=Layout(min_width='50px'), style=But…"
            ],
            "application/vnd.jupyter.widget-view+json": {
              "version_major": 2,
              "version_minor": 0,
              "model_id": "ea4ec5f1e87746e1afe528a369c5da48"
            }
          },
          "metadata": {}
        }
      ]
    },
    {
      "cell_type": "code",
      "source": [
        "#@markdown # Extract Hardcoded Subtitles and Write to SRT\n",
        "\n",
        "def format_time(seconds):\n",
        "    \"\"\"Convert seconds to the SRT time format.\"\"\"\n",
        "    ms = int((seconds - int(seconds)) * 1000)\n",
        "    s = int(seconds % 60)\n",
        "    m = int(seconds // 60) % 60\n",
        "    h = int(seconds // 3600)\n",
        "    return f\"{h:02}:{m:02}:{s:02},{ms:03}\"\n",
        "\n",
        "def normalize_spaces(text):\n",
        "    \"\"\"Normalize spaces by replacing all punctuation with a full-width space, and consolidate all spaces.\"\"\"\n",
        "    if text is None or not isinstance(text, str):\n",
        "        return \"\"\n",
        "\n",
        "    # Replace all non-word, non-space characters (punctuation) with a full-width space\n",
        "    normalized_text = re.sub(r'[^\\w\\s\\u3000]', '　', text, flags=re.UNICODE)\n",
        "\n",
        "    # Consolidate all types of spaces (including full-width) into a single full-width space\n",
        "    normalized_text = re.sub(r'[\\s\\u3000]+', '　', normalized_text, flags=re.UNICODE)\n",
        "\n",
        "    return normalized_text.strip()\n",
        "\n",
        "def format_srt(consolidated_subtitles, fps):\n",
        "    \"\"\"\n",
        "    Format consolidated subtitles into SRT format.\n",
        "\n",
        "    :param consolidated_subtitles: List of tuples (start_frame, end_frame, text).\n",
        "    :param fps: Frame rate of the video.\n",
        "    :return: String containing the formatted SRT content.\n",
        "    \"\"\"\n",
        "    srt_content = []\n",
        "\n",
        "    for idx, (start_frame, end_frame, text) in enumerate(consolidated_subtitles, 1):\n",
        "        start_time = format_time(start_frame / fps)\n",
        "        end_time = format_time(end_frame / fps)\n",
        "        srt_entry = f\"{idx}\\n{start_time} --> {end_time}\\n{text}\\n\"\n",
        "        srt_content.append(srt_entry)\n",
        "\n",
        "    return \"\\n\".join(srt_content)\n",
        "\n",
        "def consolidate_subtitles(ocr_results, fps, consolidation_threshold=100):\n",
        "    \"\"\"\n",
        "    Consolidate OCR results by merging repeated subtitles and adjusting end frame based on a time offset.\n",
        "\n",
        "    :param ocr_results: List of tuples (text, frame_number) from OCR.\n",
        "    :param fps: Frame rate of the video.\n",
        "    :param consolidation_threshold: Frame threshold for merging subtitles.\n",
        "    :return: List of tuples (start_frame, end_frame, text) for subtitles.\n",
        "    \"\"\"\n",
        "    if not ocr_results:\n",
        "        return []\n",
        "\n",
        "    consolidated_subtitles = []\n",
        "    current_text, start_frame = ocr_results[0]\n",
        "    extra_frames = int(0.25 * fps)  # Frames to add for 0.25 seconds\n",
        "\n",
        "    for i, (text, frame_number) in enumerate(ocr_results[1:], 1):\n",
        "        if text == current_text and (frame_number - start_frame) <= consolidation_threshold:\n",
        "            continue\n",
        "        else:\n",
        "            end_frame = ocr_results[i-1][1] + extra_frames  # End frame of the last subtitle consolidated + 0.25 seconds\n",
        "            consolidated_subtitles.append((start_frame, min(end_frame, frame_number - 1), current_text))\n",
        "            current_text, start_frame = text, frame_number\n",
        "\n",
        "    # Add the last subtitle entry\n",
        "    end_frame = ocr_results[-1][1] + extra_frames\n",
        "    consolidated_subtitles.append((start_frame, end_frame, current_text))\n",
        "\n",
        "    return consolidated_subtitles\n",
        "\n",
        "logger = logging.getLogger('ppocr')\n",
        "logger.setLevel(logging.ERROR)\n",
        "\n",
        "# Interval between extracted frames in seconds\n",
        "interval = 0.25\n",
        "\n",
        "# Certainty threshhold\n",
        "certainty_threshold = 0.75\n",
        "\n",
        "reader = PaddleOCR(lang='ch')\n",
        "print(\"Extracting hardcoded subtitles\")\n",
        "results = []\n",
        "vidcap = cv2.VideoCapture(\"video.mp4\")\n",
        "fps = vidcap.get(cv2.CAP_PROP_FPS)\n",
        "total_frames_to_read = int(vidcap.get(cv2.CAP_PROP_FRAME_COUNT))\n",
        "frame_count = 0\n",
        "model_loaded = False\n",
        "for _ in tqdm(range(total_frames_to_read)):\n",
        "    success, image = vidcap.read()\n",
        "    if not success:\n",
        "        break\n",
        "    if frame_count % int(fps * interval) == 0:\n",
        "        h, w = image.shape[:2]\n",
        "        cropped_image = image[int(3 * h / 4):h, 0:w]  # Crop bottom fourth\n",
        "        if not model_loaded:\n",
        "            print('Loading model')\n",
        "        ocr_result = reader.ocr(cropped_image)\n",
        "        if not model_loaded:\n",
        "            print('Model loaded')\n",
        "            model_loaded = True\n",
        "        if ocr_result[0]:\n",
        "            text, prob = ocr_result[0][0][1]\n",
        "            if prob > certainty_threshold:\n",
        "              text = normalize_spaces(text)\n",
        "              results.append((text,frame_count))\n",
        "    frame_count += 1\n",
        "vidcap.release()\n",
        "\n",
        "print('Subtitle extraction complete\\nWriting Chinese SRT')\n",
        "\n",
        "# Consolidate repeated subtitles\n",
        "consolidated_subtitles = consolidate_subtitles(results,fps)\n",
        "\n",
        "# Compile srt\n",
        "srt_content = format_srt(consolidated_subtitles, fps)\n",
        "\n",
        "# Write to SRT file\n",
        "with open(\"ch_subs.srt\", \"w\", encoding=\"utf-8\") as file:\n",
        "    file.write(srt_content)\n",
        "\n",
        "print(\"Chinese SRT Complete\")\n",
        "\n",
        "inf('\\u2714 Done','success', '50px')\n",
        "\n",
        "#@markdown ---"
      ],
      "metadata": {
        "colab": {
          "base_uri": "https://localhost:8080/",
          "height": 156,
          "referenced_widgets": [
            "081a37025b7741808b0c77ab955bb704",
            "0269eef2ab4a4f288f2e481be05d190e",
            "a8ff4b5448c34be787b2b8a3f39f48a9"
          ]
        },
        "cellView": "form",
        "id": "S4UjNQ2VRtbf",
        "outputId": "7bc09dc5-83ee-49be-bc10-fb2fba323137"
      },
      "execution_count": 25,
      "outputs": [
        {
          "output_type": "stream",
          "name": "stdout",
          "text": [
            "Extracting hardcoded subtitles\n",
            "68119\n"
          ]
        },
        {
          "output_type": "stream",
          "name": "stderr",
          "text": [
            "100%|██████████| 68119/68119 [15:19<00:00, 74.10it/s]"
          ]
        },
        {
          "output_type": "stream",
          "name": "stdout",
          "text": [
            "Subtitle extraction complete\n",
            "Writing Chinese SRT\n",
            "Chinese SRT Complete\n"
          ]
        },
        {
          "output_type": "stream",
          "name": "stderr",
          "text": [
            "\n"
          ]
        },
        {
          "output_type": "display_data",
          "data": {
            "text/plain": [
              "Button(button_style='success', description='✔ Done', disabled=True, layout=Layout(min_width='50px'), style=But…"
            ],
            "application/vnd.jupyter.widget-view+json": {
              "version_major": 2,
              "version_minor": 0,
              "model_id": "081a37025b7741808b0c77ab955bb704"
            }
          },
          "metadata": {}
        }
      ]
    }
  ],
  "metadata": {
    "accelerator": "GPU",
    "colab": {
      "provenance": [],
      "machine_shape": "hm",
      "gpuType": "T4",
      "authorship_tag": "ABX9TyOK7nJGFL4mrgjCEa8JgHRk",
      "include_colab_link": true
    },
    "kernelspec": {
      "display_name": "Python 3",
      "name": "python3"
    },
    "language_info": {
      "name": "python"
    },
    "widgets": {
      "application/vnd.jupyter.widget-state+json": {
        "5359cee5bf154f2994b5d705f04a54cd": {
          "model_module": "@jupyter-widgets/controls",
          "model_name": "ButtonModel",
          "model_module_version": "1.5.0",
          "state": {
            "_dom_classes": [],
            "_model_module": "@jupyter-widgets/controls",
            "_model_module_version": "1.5.0",
            "_model_name": "ButtonModel",
            "_view_count": null,
            "_view_module": "@jupyter-widgets/controls",
            "_view_module_version": "1.5.0",
            "_view_name": "ButtonView",
            "button_style": "success",
            "description": "✔ Done",
            "disabled": true,
            "icon": "",
            "layout": "IPY_MODEL_c843f9867c344877bb98f61b1206be9f",
            "style": "IPY_MODEL_85a680e1a0d94d5a8343daf2f1ff41ba",
            "tooltip": ""
          }
        },
        "c843f9867c344877bb98f61b1206be9f": {
          "model_module": "@jupyter-widgets/base",
          "model_name": "LayoutModel",
          "model_module_version": "1.2.0",
          "state": {
            "_model_module": "@jupyter-widgets/base",
            "_model_module_version": "1.2.0",
            "_model_name": "LayoutModel",
            "_view_count": null,
            "_view_module": "@jupyter-widgets/base",
            "_view_module_version": "1.2.0",
            "_view_name": "LayoutView",
            "align_content": null,
            "align_items": null,
            "align_self": null,
            "border": null,
            "bottom": null,
            "display": null,
            "flex": null,
            "flex_flow": null,
            "grid_area": null,
            "grid_auto_columns": null,
            "grid_auto_flow": null,
            "grid_auto_rows": null,
            "grid_column": null,
            "grid_gap": null,
            "grid_row": null,
            "grid_template_areas": null,
            "grid_template_columns": null,
            "grid_template_rows": null,
            "height": null,
            "justify_content": null,
            "justify_items": null,
            "left": null,
            "margin": null,
            "max_height": null,
            "max_width": null,
            "min_height": null,
            "min_width": "50px",
            "object_fit": null,
            "object_position": null,
            "order": null,
            "overflow": null,
            "overflow_x": null,
            "overflow_y": null,
            "padding": null,
            "right": null,
            "top": null,
            "visibility": null,
            "width": null
          }
        },
        "85a680e1a0d94d5a8343daf2f1ff41ba": {
          "model_module": "@jupyter-widgets/controls",
          "model_name": "ButtonStyleModel",
          "model_module_version": "1.5.0",
          "state": {
            "_model_module": "@jupyter-widgets/controls",
            "_model_module_version": "1.5.0",
            "_model_name": "ButtonStyleModel",
            "_view_count": null,
            "_view_module": "@jupyter-widgets/base",
            "_view_module_version": "1.2.0",
            "_view_name": "StyleView",
            "button_color": null,
            "font_weight": ""
          }
        },
        "ea4ec5f1e87746e1afe528a369c5da48": {
          "model_module": "@jupyter-widgets/controls",
          "model_name": "ButtonModel",
          "model_module_version": "1.5.0",
          "state": {
            "_dom_classes": [],
            "_model_module": "@jupyter-widgets/controls",
            "_model_module_version": "1.5.0",
            "_model_name": "ButtonModel",
            "_view_count": null,
            "_view_module": "@jupyter-widgets/controls",
            "_view_module_version": "1.5.0",
            "_view_name": "ButtonView",
            "button_style": "success",
            "description": "✔ Done",
            "disabled": true,
            "icon": "",
            "layout": "IPY_MODEL_ea79632f89d64ba190d5b01c594ed428",
            "style": "IPY_MODEL_10876fff35274ff3b7b7a5755f656e4b",
            "tooltip": ""
          }
        },
        "ea79632f89d64ba190d5b01c594ed428": {
          "model_module": "@jupyter-widgets/base",
          "model_name": "LayoutModel",
          "model_module_version": "1.2.0",
          "state": {
            "_model_module": "@jupyter-widgets/base",
            "_model_module_version": "1.2.0",
            "_model_name": "LayoutModel",
            "_view_count": null,
            "_view_module": "@jupyter-widgets/base",
            "_view_module_version": "1.2.0",
            "_view_name": "LayoutView",
            "align_content": null,
            "align_items": null,
            "align_self": null,
            "border": null,
            "bottom": null,
            "display": null,
            "flex": null,
            "flex_flow": null,
            "grid_area": null,
            "grid_auto_columns": null,
            "grid_auto_flow": null,
            "grid_auto_rows": null,
            "grid_column": null,
            "grid_gap": null,
            "grid_row": null,
            "grid_template_areas": null,
            "grid_template_columns": null,
            "grid_template_rows": null,
            "height": null,
            "justify_content": null,
            "justify_items": null,
            "left": null,
            "margin": null,
            "max_height": null,
            "max_width": null,
            "min_height": null,
            "min_width": "50px",
            "object_fit": null,
            "object_position": null,
            "order": null,
            "overflow": null,
            "overflow_x": null,
            "overflow_y": null,
            "padding": null,
            "right": null,
            "top": null,
            "visibility": null,
            "width": null
          }
        },
        "10876fff35274ff3b7b7a5755f656e4b": {
          "model_module": "@jupyter-widgets/controls",
          "model_name": "ButtonStyleModel",
          "model_module_version": "1.5.0",
          "state": {
            "_model_module": "@jupyter-widgets/controls",
            "_model_module_version": "1.5.0",
            "_model_name": "ButtonStyleModel",
            "_view_count": null,
            "_view_module": "@jupyter-widgets/base",
            "_view_module_version": "1.2.0",
            "_view_name": "StyleView",
            "button_color": null,
            "font_weight": ""
          }
        },
        "081a37025b7741808b0c77ab955bb704": {
          "model_module": "@jupyter-widgets/controls",
          "model_name": "ButtonModel",
          "model_module_version": "1.5.0",
          "state": {
            "_dom_classes": [],
            "_model_module": "@jupyter-widgets/controls",
            "_model_module_version": "1.5.0",
            "_model_name": "ButtonModel",
            "_view_count": null,
            "_view_module": "@jupyter-widgets/controls",
            "_view_module_version": "1.5.0",
            "_view_name": "ButtonView",
            "button_style": "success",
            "description": "✔ Done",
            "disabled": true,
            "icon": "",
            "layout": "IPY_MODEL_0269eef2ab4a4f288f2e481be05d190e",
            "style": "IPY_MODEL_a8ff4b5448c34be787b2b8a3f39f48a9",
            "tooltip": ""
          }
        },
        "0269eef2ab4a4f288f2e481be05d190e": {
          "model_module": "@jupyter-widgets/base",
          "model_name": "LayoutModel",
          "model_module_version": "1.2.0",
          "state": {
            "_model_module": "@jupyter-widgets/base",
            "_model_module_version": "1.2.0",
            "_model_name": "LayoutModel",
            "_view_count": null,
            "_view_module": "@jupyter-widgets/base",
            "_view_module_version": "1.2.0",
            "_view_name": "LayoutView",
            "align_content": null,
            "align_items": null,
            "align_self": null,
            "border": null,
            "bottom": null,
            "display": null,
            "flex": null,
            "flex_flow": null,
            "grid_area": null,
            "grid_auto_columns": null,
            "grid_auto_flow": null,
            "grid_auto_rows": null,
            "grid_column": null,
            "grid_gap": null,
            "grid_row": null,
            "grid_template_areas": null,
            "grid_template_columns": null,
            "grid_template_rows": null,
            "height": null,
            "justify_content": null,
            "justify_items": null,
            "left": null,
            "margin": null,
            "max_height": null,
            "max_width": null,
            "min_height": null,
            "min_width": "50px",
            "object_fit": null,
            "object_position": null,
            "order": null,
            "overflow": null,
            "overflow_x": null,
            "overflow_y": null,
            "padding": null,
            "right": null,
            "top": null,
            "visibility": null,
            "width": null
          }
        },
        "a8ff4b5448c34be787b2b8a3f39f48a9": {
          "model_module": "@jupyter-widgets/controls",
          "model_name": "ButtonStyleModel",
          "model_module_version": "1.5.0",
          "state": {
            "_model_module": "@jupyter-widgets/controls",
            "_model_module_version": "1.5.0",
            "_model_name": "ButtonStyleModel",
            "_view_count": null,
            "_view_module": "@jupyter-widgets/base",
            "_view_module_version": "1.2.0",
            "_view_name": "StyleView",
            "button_color": null,
            "font_weight": ""
          }
        }
      }
    }
  },
  "nbformat": 4,
  "nbformat_minor": 0
}